{
 "cells": [
  {
   "attachments": {},
   "cell_type": "markdown",
   "metadata": {},
   "source": [
    "# Creating a neuralnetwork from scratch using Numpy package only\n",
    "#### Predict the MNIST image dataset handwritten numbers from images with 784(28*28) pixels using a neural network\n",
    "#### It has one input layer 784 nodes, hidden layer with 10 nodes relu activation and output layer with 10 node softmax activation\n"
   ]
  },
  {
   "cell_type": "code",
   "execution_count": null,
   "metadata": {},
   "outputs": [],
   "source": [
    "import numpy as np\n",
    "import pandas as pd\n",
    "import tensorflow as tf\n",
    "\n",
    "#loading the dataset\n",
    "(xtrain, ytrain), (xtest, ytest) = tf.keras.datasets.mnist.load_data()"
   ]
  },
  {
   "cell_type": "code",
   "execution_count": null,
   "metadata": {},
   "outputs": [],
   "source": [
    "print(xtrain.shape,xtest.shape,ytrain.shape,ytest.shape)\n",
    "xtrain=np.reshape(xtrain,(60000,-1))\n",
    "xtest=np.reshape(xtest,(10000,-1))\n",
    "print(xtrain.shape,xtest.shape,ytrain.shape,ytest.shape)\n"
   ]
  },
  {
   "cell_type": "code",
   "execution_count": null,
   "metadata": {},
   "outputs": [],
   "source": [
    "xtrain=xtrain.T/255\n",
    "xtest=xtest.T/255"
   ]
  },
  {
   "cell_type": "code",
   "execution_count": null,
   "metadata": {},
   "outputs": [],
   "source": [
    "#initialize weights and biases\n",
    "def initparams():\n",
    "    w1=np.random.rand(10,784)\n",
    "    b1=np.random.rand(10,1)\n",
    "    w2=np.random.rand(10,10)\n",
    "    b2=np.random.rand(10,1)\n",
    "    return w1,w2,b1,b2\n",
    "\n",
    "##relu function\n",
    "def relu(z):\n",
    "    return np.maximum(0.0,z)\n",
    "\n",
    "##softmax function\n",
    "def softmax(x):\n",
    "    \"\"\"\n",
    "    Compute softmax values for each row of matrix x.\n",
    "    \"\"\"\n",
    "    # Subtracting the maximum element from each row for numerical stability\n",
    "    x = x - np.max(x, axis=1, keepdims=True)\n",
    "    exp_x = np.exp(x)\n",
    "    softmax_x = exp_x / np.sum(exp_x, axis=1, keepdims=True)\n",
    "    return softmax_x\n",
    "\n",
    "#one hot encoding the target\n",
    "def onehotfunc(z):\n",
    "    ohz=np.zeros((10,z.shape[0]))\n",
    "    for i in range(z.shape[0]):\n",
    "        ohz[z[i],i]=1\n",
    "    return ohz\n",
    "\n",
    "#forward propagation\n",
    "def forwprop(w1,w2,b1,b2,x):\n",
    "    z1=np.dot(w1,x)+b1\n",
    "    a1=relu(z1)\n",
    "    z2=np.dot(w2,a1)+b2\n",
    "    a2=softmax(z2)\n",
    "    return z1,z2,a1,a2\n",
    "\n",
    "#backward propagation\n",
    "def backprop(z1,z2,a1,a2,w1,w2,x,y):\n",
    "    m=y.shape[0]\n",
    "    ency=onehotfunc(y.astype(int))\n",
    "    dz2=a2-ency\n",
    "    dw2=1/m*np.dot(dz2,a1.T)\n",
    "    db2=1/m*np.sum(dz2)\n",
    "    dz1=np.dot(w2.T,dz2)*(z1>0)\n",
    "    dw1=1/m*np.dot(dz1,x.T)\n",
    "    db1=1/m*np.sum(dz1)\n",
    "    return dw1,dw2,db1,db2\n",
    "\n",
    "#updating parameters in each iteration\n",
    "def paramupdate(w1,w2,b1,b2,dw1,dw2,db1,db2,alpha):\n",
    "    w2=w2-alpha*dw2\n",
    "    w1=w1-alpha*dw1\n",
    "    b2=b2-alpha*db2\n",
    "    b1=b1-alpha*db1\n",
    "    return w1,w2,b1,b2\n",
    "\n",
    "#getting the prediction\n",
    "def prediction(z):\n",
    "    return np.argmax(z,0)\n",
    "\n",
    "#calculating accuracy\n",
    "def accuracy(pred,y):\n",
    "    print(pred,y)\n",
    "    return np.sum(pred==y)/y.size\n",
    "\n",
    "#the final neural network which prints accuracy at each iteration\n",
    "def neuralnet(x,y,itr,alpha):\n",
    "    w1,w2,b1,b2=initparams()\n",
    "    for i in range(itr):\n",
    "        z1,z2,a1,a2=forwprop(w1,w2,b1,b2,x)\n",
    "        dw1,dw2,db1,db2=backprop(z1,z2,a1,a2,w1,w2,x,y)\n",
    "        w1,w2,b1,b2=paramupdate(w1,w2,b1,b2,dw1,dw2,db1,db2,alpha)\n",
    "        pred=prediction(a2)\n",
    "        print(i,accuracy(pred,y))\n",
    "    return w1,w2,b1,b2\n",
    "\n",
    "\n",
    "\n",
    "    \n",
    "\n",
    "\n",
    "\n"
   ]
  },
  {
   "cell_type": "code",
   "execution_count": null,
   "metadata": {},
   "outputs": [],
   "source": [
    "# implementing the neuralnetwork \n",
    "print(xtrain.shape,ytrain.shape)\n",
    "w1,w2,b1,b2=neuralnet(xtrain,ytrain,500,0.001)"
   ]
  }
 ],
 "metadata": {
  "kernelspec": {
   "display_name": "newenvt",
   "language": "python",
   "name": "python3"
  },
  "language_info": {
   "codemirror_mode": {
    "name": "ipython",
    "version": 3
   },
   "file_extension": ".py",
   "mimetype": "text/x-python",
   "name": "python",
   "nbconvert_exporter": "python",
   "pygments_lexer": "ipython3",
   "version": "3.9.13"
  },
  "orig_nbformat": 4
 },
 "nbformat": 4,
 "nbformat_minor": 2
}
